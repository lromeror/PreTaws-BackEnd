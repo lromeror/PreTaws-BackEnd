{
 "cells": [
  {
   "cell_type": "code",
   "execution_count": null,
   "metadata": {},
   "outputs": [],
   "source": [
    "from selenium import webdriver\n",
    "from selenium.webdriver.common.keys import Keys\n",
    "from selenium.webdriver.common.by import By\n",
    "import csv\n",
    "import time\n",
    "import pandas as pd\n",
    "import numpy as np\n",
    "from selenium.webdriver.common.by import By\n",
    "from selenium.webdriver.support.ui import WebDriverWait\n",
    "from selenium.webdriver.support import expected_conditions as EC\n",
    "\n",
    "# Create a new instance of Chrome driver\n",
    "\n",
    "driver = webdriver.Chrome()\n",
    "\n",
    "# Navigate to the target website\n",
    "url= \"https://www.academico.espol.edu.ec/login.aspx?ReturnUrl=%2fUI%2fInformacionAcademica%2finformaciongeneral.aspx\"\n",
    "driver.get(url)\n",
    "\n",
    "\n",
    "time.sleep(10)\n",
    "\n",
    "# Locate the username and password fields\n",
    "\n",
    "username = driver.find_element(By.XPATH, \"//*[@id='ctl00_contenido_txtuser']\") \n",
    "username.click()\n",
    "username.send_keys(\"usuario\")  # Introduce tu usuario\n",
    "enviar = driver.find_element(By.XPATH, \"//*[@id='ctl00_contenido_btnSigte']\")\n",
    "enviar.click()\n",
    "\n",
    "time.sleep(10)\n",
    "\n",
    "# Introduce la contraseña\n",
    "password = driver.find_element(By.XPATH, \"//*[@id='ctl00_contenido_txtpsw']\")  \n",
    "password.click()\n",
    "password.send_keys(\"contra\")  # Introduce tu contraseña\n",
    "\n",
    "# Localiza el campo del captcha\n",
    "captcha_img = driver.find_element(By.XPATH, \"//*[@id='c_login_ctl00_contenido_samplecaptcha_CaptchaImage']\")\n",
    "#Probando haciendo screenshot del captcha\n",
    "captcha_img.screenshot(\"captcha.png\")  # Guarda la imagen para que la puedas ver\n",
    "\n",
    "# Pausa para que introduzcas el texto del captcha manualmente\n",
    "captcha_text = input(\"Introduce el texto del captcha mostrado: \")\n",
    "\n",
    "# Envía el texto del captcha al campo correspondiente\n",
    "captcha_field = driver.find_element(By.XPATH, \"//*[@id='ctl00_contenido_CaptchaCodeTextBox']\")\n",
    "captcha_field.send_keys(captcha_text)\n",
    "\n",
    "# Click en el botón de ingresar\n",
    "\n",
    "login_button = driver.find_element(By.XPATH, \"//*[@id='ctl00_contenido_btnIniciarSesion']\")\n",
    "login_button.click()"
   ]
  },
  {
   "cell_type": "code",
   "execution_count": null,
   "metadata": {},
   "outputs": [],
   "source": []
  }
 ],
 "metadata": {
  "kernelspec": {
   "display_name": "base",
   "language": "python",
   "name": "python3"
  },
  "language_info": {
   "codemirror_mode": {
    "name": "ipython",
    "version": 3
   },
   "file_extension": ".py",
   "mimetype": "text/x-python",
   "name": "python",
   "nbconvert_exporter": "python",
   "pygments_lexer": "ipython3",
   "version": "3.12.4"
  }
 },
 "nbformat": 4,
 "nbformat_minor": 2
}
